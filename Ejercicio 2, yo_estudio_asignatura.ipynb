{
 "cells": [
  {
   "cell_type": "code",
   "execution_count": 28,
   "metadata": {},
   "outputs": [
    {
     "name": "stdout",
     "output_type": "stream",
     "text": [
      "Yo estudio Matemáticas\n",
      "Yo estudio Física\n",
      "Yo estudio Química\n",
      "Yo estudio Historia\n",
      "Yo estudio Lenguaje\n"
     ]
    }
   ],
   "source": [
    "asignaturas = ['Matemáticas', 'Física', 'Química', 'Historia', 'Lenguaje']\n",
    "\n",
    "for i in asignaturas:\n",
    "    print(f'Yo estudio {i}')"
   ]
  },
  {
   "cell_type": "code",
   "execution_count": 29,
   "metadata": {},
   "outputs": [
    {
     "name": "stdout",
     "output_type": "stream",
     "text": [
      "Yo estudio Matemáticas, Física, Química, Historia, Lenguaje\n"
     ]
    }
   ],
   "source": [
    "asignaturas = ['Matemáticas', 'Física', 'Química', 'Historia', 'Lenguaje']\n",
    "\n",
    "cadena = \", \".join(asignaturas)\n",
    "print(f'Yo estudio {cadena}')"
   ]
  }
 ],
 "metadata": {
  "kernelspec": {
   "display_name": "Python 3",
   "language": "python",
   "name": "python3"
  },
  "language_info": {
   "codemirror_mode": {
    "name": "ipython",
    "version": 3
   },
   "file_extension": ".py",
   "mimetype": "text/x-python",
   "name": "python",
   "nbconvert_exporter": "python",
   "pygments_lexer": "ipython3",
   "version": "3.12.5"
  }
 },
 "nbformat": 4,
 "nbformat_minor": 2
}
