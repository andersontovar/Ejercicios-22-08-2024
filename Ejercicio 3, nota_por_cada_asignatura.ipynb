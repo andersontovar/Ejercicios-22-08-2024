{
 "cells": [
  {
   "cell_type": "code",
   "execution_count": 4,
   "metadata": {},
   "outputs": [
    {
     "name": "stdout",
     "output_type": "stream",
     "text": [
      "En Matemáticas ha sacado 3.5\n",
      "En Física ha sacado 4.2\n",
      "En Química ha sacado 3.7\n",
      "En Historia ha sacado 3.2\n",
      "En Lengua ha sacado 5.0\n"
     ]
    }
   ],
   "source": [
    "asignatura = ['Matemáticas', 'Física', 'Química', 'Historia', 'Lengua']\n",
    "\n",
    "for i in asignatura:\n",
    "    a = float(input(f'¿Cual es la nota que ha sacado en {i}?'))\n",
    "    print(f'En {i} ha sacado {a}')"
   ]
  }
 ],
 "metadata": {
  "kernelspec": {
   "display_name": "Python 3",
   "language": "python",
   "name": "python3"
  },
  "language_info": {
   "codemirror_mode": {
    "name": "ipython",
    "version": 3
   },
   "file_extension": ".py",
   "mimetype": "text/x-python",
   "name": "python",
   "nbconvert_exporter": "python",
   "pygments_lexer": "ipython3",
   "version": "3.12.5"
  }
 },
 "nbformat": 4,
 "nbformat_minor": 2
}
