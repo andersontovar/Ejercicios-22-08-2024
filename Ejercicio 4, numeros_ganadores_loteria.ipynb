{
 "cells": [
  {
   "cell_type": "code",
   "execution_count": 44,
   "metadata": {},
   "outputs": [
    {
     "name": "stdout",
     "output_type": "stream",
     "text": [
      "Los numeros ganadores son: [10, 32, 47, 70, 74, 93]\n"
     ]
    }
   ],
   "source": [
    "loteria_primitiva = []\n",
    "\n",
    "for i in range(6):\n",
    "    loteria_primitiva.append(int(input('Ingrese un numero ganador: ')))\n",
    "loteria_primitiva.sort()\n",
    "print(f'Los numeros ganadores son: {loteria_primitiva}')"
   ]
  }
 ],
 "metadata": {
  "kernelspec": {
   "display_name": "Python 3",
   "language": "python",
   "name": "python3"
  },
  "language_info": {
   "codemirror_mode": {
    "name": "ipython",
    "version": 3
   },
   "file_extension": ".py",
   "mimetype": "text/x-python",
   "name": "python",
   "nbconvert_exporter": "python",
   "pygments_lexer": "ipython3",
   "version": "3.12.5"
  }
 },
 "nbformat": 4,
 "nbformat_minor": 2
}
