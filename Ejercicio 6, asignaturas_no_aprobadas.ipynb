{
 "cells": [
  {
   "cell_type": "code",
   "execution_count": 62,
   "metadata": {},
   "outputs": [
    {
     "name": "stdout",
     "output_type": "stream",
     "text": [
      "Las asignaturas a repetir son: ['Matemáticas', 'Física', 'Historia', 'Lenguaje']\n"
     ]
    }
   ],
   "source": [
    "asignaturas = ['Matemáticas', 'Física', 'Química', 'Historia', 'Lenguaje']\n",
    "\n",
    "asignaturas_a_repetir = []\n",
    "for i in asignaturas:\n",
    "    nota = int(input(f'Ingrese la nota que ha sacado en {i}: '))\n",
    "    if nota <= 5:\n",
    "        asignaturas_a_repetir.append(i)\n",
    "\n",
    "if asignaturas_a_repetir:\n",
    "    print(f'Las asignaturas a repetir son: {asignaturas_a_repetir}')\n",
    "else:\n",
    "    print('El estudiante ha aprobado todas las asignaturas')"
   ]
  }
 ],
 "metadata": {
  "kernelspec": {
   "display_name": "Python 3",
   "language": "python",
   "name": "python3"
  },
  "language_info": {
   "codemirror_mode": {
    "name": "ipython",
    "version": 3
   },
   "file_extension": ".py",
   "mimetype": "text/x-python",
   "name": "python",
   "nbconvert_exporter": "python",
   "pygments_lexer": "ipython3",
   "version": "3.12.5"
  }
 },
 "nbformat": 4,
 "nbformat_minor": 2
}
