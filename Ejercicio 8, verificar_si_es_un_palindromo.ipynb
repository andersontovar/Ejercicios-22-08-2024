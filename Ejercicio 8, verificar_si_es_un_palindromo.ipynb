{
 "cells": [
  {
   "cell_type": "code",
   "execution_count": null,
   "metadata": {},
   "outputs": [],
   "source": [
    "'''\n",
    "Escribir un programa que pida al usuario una palabra y muestre por pantalla si es un palíndromo.\n",
    "\n",
    "'''"
   ]
  },
  {
   "cell_type": "code",
   "execution_count": 5,
   "metadata": {},
   "outputs": [
    {
     "name": "stdout",
     "output_type": "stream",
     "text": [
      "La palabra reconocer SI es un palindromo\n"
     ]
    }
   ],
   "source": [
    "palabra = input('Ingrese una palabra para verificar si es un palindromo: ')\n",
    "\n",
    "if palabra[::-1] == palabra:\n",
    "    print(f'La palabra {palabra} SI es un palindromo')\n",
    "else:\n",
    "    print('La palabra ingresada NO es un palindromo')"
   ]
  },
  {
   "cell_type": "code",
   "execution_count": 20,
   "metadata": {},
   "outputs": [
    {
     "name": "stdout",
     "output_type": "stream",
     "text": [
      "La frase SI es un palindromo\n"
     ]
    }
   ],
   "source": [
    "frase = input('Ingrese una frase para verificar si es un palindromo: ')\n",
    "\n",
    "frase_limpia = frase.replace(' ', '').lower()\n",
    "\n",
    "if frase_limpia[::-1] == frase_limpia:\n",
    "    print(f'La frase SI es un palindromo')\n",
    "else:\n",
    "    print('La frase ingresada NO es un palindromo')"
   ]
  }
 ],
 "metadata": {
  "kernelspec": {
   "display_name": "Python 3",
   "language": "python",
   "name": "python3"
  },
  "language_info": {
   "codemirror_mode": {
    "name": "ipython",
    "version": 3
   },
   "file_extension": ".py",
   "mimetype": "text/x-python",
   "name": "python",
   "nbconvert_exporter": "python",
   "pygments_lexer": "ipython3",
   "version": "3.12.5"
  }
 },
 "nbformat": 4,
 "nbformat_minor": 2
}
